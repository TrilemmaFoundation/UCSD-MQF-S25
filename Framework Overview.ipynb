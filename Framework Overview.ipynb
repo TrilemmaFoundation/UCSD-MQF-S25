{
 "cells": [
  {
   "cell_type": "markdown",
   "id": "99362474-2a64-48bb-84dc-06b3a0ba4b0e",
   "metadata": {},
   "source": [
    "# UCSD Summer 2025 MQF Capstone Project\n",
    "\n",
    "### Getting Familiar with the Framework\n",
    "\n",
    "---"
   ]
  },
  {
   "cell_type": "markdown",
   "id": "89f94db3-ee4c-45ff-a2de-2e53d410a447",
   "metadata": {},
   "source": [
    "While our capstone project extends beyond the [Stacking Sats Tournament](https://github.com/TrilemmaFoundation/stacking-sats-tournament-mstr-2025/tree/main), the tournament tutorials will help you:\n",
    "\n",
    "* Understand how our framework works\n",
    "* Learn why it was designed this way\n",
    "* Apply it to improve your EDA, model development, or even suggest enhancements like slippage\n",
    "\n",
    "Although we encourage you to explore the tournament if interested, remember that the capstone is a separate project with a different objective.\n",
    "\n",
    "That said, these tutorials offer valuable context. Here’s what to focus on:\n",
    "\n",
    "---\n",
    "\n",
    "## 📚 Tutorial Outline and Key Takeaways\n",
    "\n",
    "[`1. Intro.ipynb`](https://github.com/TrilemmaFoundation/stacking-sats-tournament-mstr-2025/blob/main/tutorials/1.%20Intro.ipynb)\n",
    "**Takeaway:** Learn the core concept of Dynamic DCA and how it differs from fixed accumulation\n",
    "\n",
    "[`2. Problem Statement.ipynb`](https://github.com/TrilemmaFoundation/stacking-sats-tournament-mstr-2025/blob/main/tutorials/2.%20Problem%20Statement.ipynb)\n",
    "**Takeaway:** Get a high-level overview of the strategy development and evaluation framework\n",
    "\n",
    "[`3. Problem Statement Deep Dive.ipynb`](https://github.com/TrilemmaFoundation/stacking-sats-tournament-mstr-2025/blob/main/tutorials/3.%20Problem%20Statement%20Deep%20Dive.ipynb) \n",
    "**Takeaway:** Gain deeper intuition and flexibility in applying the framework\n",
    "\n",
    "[`4. Virtual Env Setup.ipynb`](https://github.com/TrilemmaFoundation/stacking-sats-tournament-mstr-2025/blob/main/tutorials/4.%20Virtual%20Env%20Setup.ipynb)\n",
    "**Takeaway:** Set up your dev environment so the model template runs smoothly\n",
    "\n",
    "[`model_development_template.ipynb`](https://github.com/TrilemmaFoundation/stacking-sats-tournament-mstr-2025/blob/main/model-development/model_development_template.ipynb)\n",
    "**Takeaway:** Use this to test ideas, refine your EDA, and start building your own logic"
   ]
  }
 ],
 "metadata": {
  "kernelspec": {
   "display_name": "Stacking Sats Env",
   "language": "python",
   "name": "stacking-sats-env"
  },
  "language_info": {
   "codemirror_mode": {
    "name": "ipython",
    "version": 3
   },
   "file_extension": ".py",
   "mimetype": "text/x-python",
   "name": "python",
   "nbconvert_exporter": "python",
   "pygments_lexer": "ipython3",
   "version": "3.10.16"
  }
 },
 "nbformat": 4,
 "nbformat_minor": 5
}
